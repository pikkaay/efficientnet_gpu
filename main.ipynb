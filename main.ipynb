{
 "cells": [
  {
   "cell_type": "code",
   "execution_count": null,
   "metadata": {},
   "outputs": [],
   "source": [
    "# Copyright 2019 The TensorFlow Authors. All Rights Reserved.\n",
    "#\n",
    "# Licensed under the Apache License, Version 2.0 (the \"License\");\n",
    "# you may not use this file except in compliance with the License.\n",
    "# You may obtain a copy of the License at\n",
    "#\n",
    "#     http://www.apache.org/licenses/LICENSE-2.0\n",
    "#\n",
    "# Unless required by applicable law or agreed to in writing, software\n",
    "# distributed under the License is distributed on an \"AS IS\" BASIS,\n",
    "# WITHOUT WARRANTIES OR CONDITIONS OF ANY KIND, either express or implied.\n",
    "# See the License for the specific language governing permissions and\n",
    "# limitations under the License.\n",
    "# ==============================================================================\n",
    "\"\"\"Eval checkpoint driver.\n",
    "\n",
    "This is an example evaluation script for users to understand the EfficientNet\n",
    "model checkpoints on CPU. To serve EfficientNet, please consider to export a\n",
    "`SavedModel` from checkpoints and use tf-serving to serve.\n",
    "\"\"\"\n",
    "\n",
    "from __future__ import absolute_import\n",
    "from __future__ import division\n",
    "from __future__ import print_function\n",
    "\n",
    "import json\n",
    "import sys\n",
    "from absl import app\n",
    "from absl import flags\n",
    "import numpy as np\n",
    "import tensorflow as tf\n",
    "\n",
    "\n",
    "import efficientnet_builder\n",
    "import preprocessing\n",
    "\n",
    "\n",
    "# flags.DEFINE_string('model_name', 'efficientnet-b0', 'Model name to eval.')\n",
    "# flags.DEFINE_string('runmode', 'examples', 'Running mode: examples or imagenet')\n",
    "# flags.DEFINE_string('imagenet_eval_glob', None,\n",
    "#                     'Imagenet eval image glob, '\n",
    "#                     'such as /imagenet/ILSVRC2012*.JPEG')\n",
    "# flags.DEFINE_string('imagenet_eval_label', None,\n",
    "#                     'Imagenet eval label file path, '\n",
    "#                     'such as /imagenet/ILSVRC2012_validation_ground_truth.txt')\n",
    "# flags.DEFINE_string('ckpt_dir', '/tmp/ckpt/', 'Checkpoint folders')\n",
    "# flags.DEFINE_string('example_img', '/tmp/panda.jpg',\n",
    "#                     'Filepath for a single example image.')\n",
    "# flags.DEFINE_string('labels_map_file', '/tmp/labels_map.txt',\n",
    "#                     'Labels map from label id to its meaning.')\n",
    "# flags.DEFINE_integer('num_images', 5000,\n",
    "#                      'Number of images to eval. Use -1 to eval all images.')\n",
    "# FLAGS = flags.FLAGS"
   ]
  },
  {
   "cell_type": "code",
   "execution_count": null,
   "metadata": {},
   "outputs": [],
   "source": [
    "MEAN_RGB = [0.485 * 255, 0.456 * 255, 0.406 * 255]\n",
    "STDDEV_RGB = [0.229 * 255, 0.224 * 255, 0.225 * 255]\n",
    "\n",
    "\n",
    "model_name='efficientnet-b0'\n",
    "batch_size=128\n",
    "\"\"\"Initialize internal variables.\"\"\"\n",
    "model_name = model_name\n",
    "batch_size = batch_size\n",
    "num_classes = 1000\n",
    "# Model Scaling parameters\n",
    "_, _, image_size, _ = efficientnet_builder.efficientnet_params(\n",
    "      model_name)\n",
    "\n",
    "def restore_model(sess, ckpt_dir):\n",
    "  \"\"\"Restore variables from checkpoint dir.\"\"\"\n",
    "  checkpoint = tf.train.latest_checkpoint(ckpt_dir)\n",
    "  ema = tf.train.ExponentialMovingAverage(decay=0.9999)\n",
    "  ema_vars = tf.trainable_variables() + tf.get_collection('moving_vars')\n",
    "  for v in tf.global_variables():\n",
    "    if 'moving_mean' in v.name or 'moving_variance' in v.name:\n",
    "      ema_vars.append(v)\n",
    "  ema_vars = list(set(ema_vars))\n",
    "  var_dict = ema.variables_to_restore(ema_vars)\n",
    "  saver = tf.train.Saver(var_dict, max_to_keep=1)\n",
    "  saver.restore(sess, checkpoint)\n",
    "\n",
    "def build_model( features, is_training):\n",
    "  \"\"\"Build model with input features.\"\"\"\n",
    "  features -= tf.constant(MEAN_RGB, shape=[1, 1, 3], dtype=features.dtype)\n",
    "  features /= tf.constant(STDDEV_RGB, shape=[1, 1, 3], dtype=features.dtype)\n",
    "  out, _ = efficientnet_builder.build_model_base(\n",
    "      features, model_name, is_training)\n",
    "  return out\n",
    "\n",
    "def build_dataset( filenames, is_training):\n",
    "  \"\"\"Build input dataset.\"\"\"\n",
    "  filenames = tf.constant(filenames)\n",
    "  dataset = tf.data.Dataset.from_tensor_slices((filenames))\n",
    "\n",
    "  def _parse_function(filename):\n",
    "    image_string = tf.read_file(filename)\n",
    "    image_decoded = preprocessing.preprocess_image(\n",
    "        image_string, is_training, image_size=image_size)\n",
    "    image = tf.cast(image_decoded, tf.float32)\n",
    "    return image\n",
    "\n",
    "  dataset = dataset.map(_parse_function)\n",
    "  dataset = dataset.batch(batch_size)\n",
    "\n",
    "  iterator = dataset.make_one_shot_iterator()\n",
    "  images = iterator.get_next()\n",
    "  return images"
   ]
  },
  {
   "cell_type": "code",
   "execution_count": null,
   "metadata": {},
   "outputs": [],
   "source": [
    "out_probs = []"
   ]
  },
  {
   "cell_type": "code",
   "execution_count": null,
   "metadata": {
    "scrolled": true
   },
   "outputs": [],
   "source": [
    "graph = tf.Graph()\n",
    "with tf.Session(graph=graph) as sess:\n",
    "  images = build_dataset(training_files, False)\n",
    "  out = build_model(images, is_training=False)\n",
    "  out = tf.reduce_mean(out, axis=[1,2])\n",
    "  sess.run(tf.global_variables_initializer())\n",
    "  restore_model(sess, './weights_efficientnet-b0/')\n",
    "  \n",
    "  for i in range(len(training_files) // batch_size):\n",
    "    out_probs.append(sess.run(out))\n",
    "    print(i)"
   ]
  },
  {
   "cell_type": "code",
   "execution_count": null,
   "metadata": {},
   "outputs": [],
   "source": [
    "np.save('file4.npy', np.array(out_probs)) "
   ]
  },
  {
   "cell_type": "code",
   "execution_count": null,
   "metadata": {},
   "outputs": [],
   "source": [
    "for op in graph.get_operations():\n",
    "     print(op.name)"
   ]
  },
  {
   "cell_type": "code",
   "execution_count": null,
   "metadata": {},
   "outputs": [],
   "source": [
    "np.array(out_probs).shape"
   ]
  },
  {
   "cell_type": "code",
   "execution_count": null,
   "metadata": {},
   "outputs": [],
   "source": []
  },
  {
   "cell_type": "code",
   "execution_count": null,
   "metadata": {},
   "outputs": [],
   "source": [
    "import pandas as pd\n",
    "import numpy as np\n",
    "\n",
    "path = './../../../../main/'\n",
    "train = pd.read_csv(path+'./CheXpert-v1.0-small/train.csv')\n",
    "valid = pd.read_csv(path+'./CheXpert-v1.0-small/valid.csv')\n",
    "\n",
    "train['validation'] = False\n",
    "valid['validation'] = True\n",
    "df = pd.concat([train, valid])\n",
    "\n",
    "columns = ['Path', 'Atelectasis', 'Cardiomegaly', 'Consolidation', 'Edema', 'Pleural Effusion', 'validation']\n",
    "df = df[columns]\n",
    "\n",
    "for feature in ['Atelectasis', 'Edema']:\n",
    "    df[feature] = df[feature].apply(lambda x: 1 if x==-1 else x)\n",
    "\n",
    "for feature in ['Cardiomegaly', 'Consolidation', 'Pleural Effusion']:\n",
    "    df[feature] = df[feature].apply(lambda x: 0 if x==-1 else x)\n",
    "df.fillna(0, inplace=True)\n",
    "\n",
    "train = df[~df.validation]\n",
    "print(len(train))\n",
    "files = train['Path'].tolist()\n",
    "files = [path+fil for fil in files]"
   ]
  },
  {
   "cell_type": "code",
   "execution_count": null,
   "metadata": {},
   "outputs": [],
   "source": [
    "training_files = files[150000:]"
   ]
  },
  {
   "cell_type": "code",
   "execution_count": null,
   "metadata": {},
   "outputs": [],
   "source": []
  },
  {
   "cell_type": "code",
   "execution_count": null,
   "metadata": {},
   "outputs": [],
   "source": []
  }
 ],
 "metadata": {
  "kernelspec": {
   "display_name": "Python 2",
   "language": "python",
   "name": "python2"
  },
  "language_info": {
   "codemirror_mode": {
    "name": "ipython",
    "version": 2
   },
   "file_extension": ".py",
   "mimetype": "text/x-python",
   "name": "python",
   "nbconvert_exporter": "python",
   "pygments_lexer": "ipython2",
   "version": "2.7.15rc1"
  }
 },
 "nbformat": 4,
 "nbformat_minor": 2
}
